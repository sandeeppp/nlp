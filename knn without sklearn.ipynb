{
 "cells": [
  {
   "cell_type": "code",
   "execution_count": 13,
   "metadata": {},
   "outputs": [],
   "source": [
    "import pandas as pd\n",
    "import numpy as np\n",
    "import matplotlib.pyplot as plt\n",
    "import sklearn\n",
    "from sklearn.decomposition import PCA\n",
    "from sklearn.preprocessing import StandardScaler \n",
    "# if the dataset has a lot of dimensions it is advised to reduce the number of dimensions before knn "
   ]
  },
  {
   "cell_type": "code",
   "execution_count": 10,
   "metadata": {},
   "outputs": [],
   "source": [
    "data=pd.read_csv('Prostate_Cancer.csv')"
   ]
  },
  {
   "cell_type": "code",
   "execution_count": 11,
   "metadata": {},
   "outputs": [
    {
     "data": {
      "text/html": [
       "<div>\n",
       "<style scoped>\n",
       "    .dataframe tbody tr th:only-of-type {\n",
       "        vertical-align: middle;\n",
       "    }\n",
       "\n",
       "    .dataframe tbody tr th {\n",
       "        vertical-align: top;\n",
       "    }\n",
       "\n",
       "    .dataframe thead th {\n",
       "        text-align: right;\n",
       "    }\n",
       "</style>\n",
       "<table border=\"1\" class=\"dataframe\">\n",
       "  <thead>\n",
       "    <tr style=\"text-align: right;\">\n",
       "      <th></th>\n",
       "      <th>id</th>\n",
       "      <th>diagnosis_result</th>\n",
       "      <th>radius</th>\n",
       "      <th>texture</th>\n",
       "      <th>perimeter</th>\n",
       "      <th>area</th>\n",
       "      <th>smoothness</th>\n",
       "      <th>compactness</th>\n",
       "      <th>symmetry</th>\n",
       "      <th>fractal_dimension</th>\n",
       "    </tr>\n",
       "  </thead>\n",
       "  <tbody>\n",
       "    <tr>\n",
       "      <th>0</th>\n",
       "      <td>1</td>\n",
       "      <td>M</td>\n",
       "      <td>23</td>\n",
       "      <td>12</td>\n",
       "      <td>151</td>\n",
       "      <td>954</td>\n",
       "      <td>0.143</td>\n",
       "      <td>0.278</td>\n",
       "      <td>0.242</td>\n",
       "      <td>0.079</td>\n",
       "    </tr>\n",
       "    <tr>\n",
       "      <th>1</th>\n",
       "      <td>2</td>\n",
       "      <td>B</td>\n",
       "      <td>9</td>\n",
       "      <td>13</td>\n",
       "      <td>133</td>\n",
       "      <td>1326</td>\n",
       "      <td>0.143</td>\n",
       "      <td>0.079</td>\n",
       "      <td>0.181</td>\n",
       "      <td>0.057</td>\n",
       "    </tr>\n",
       "    <tr>\n",
       "      <th>2</th>\n",
       "      <td>3</td>\n",
       "      <td>M</td>\n",
       "      <td>21</td>\n",
       "      <td>27</td>\n",
       "      <td>130</td>\n",
       "      <td>1203</td>\n",
       "      <td>0.125</td>\n",
       "      <td>0.160</td>\n",
       "      <td>0.207</td>\n",
       "      <td>0.060</td>\n",
       "    </tr>\n",
       "    <tr>\n",
       "      <th>3</th>\n",
       "      <td>4</td>\n",
       "      <td>M</td>\n",
       "      <td>14</td>\n",
       "      <td>16</td>\n",
       "      <td>78</td>\n",
       "      <td>386</td>\n",
       "      <td>0.070</td>\n",
       "      <td>0.284</td>\n",
       "      <td>0.260</td>\n",
       "      <td>0.097</td>\n",
       "    </tr>\n",
       "    <tr>\n",
       "      <th>4</th>\n",
       "      <td>5</td>\n",
       "      <td>M</td>\n",
       "      <td>9</td>\n",
       "      <td>19</td>\n",
       "      <td>135</td>\n",
       "      <td>1297</td>\n",
       "      <td>0.141</td>\n",
       "      <td>0.133</td>\n",
       "      <td>0.181</td>\n",
       "      <td>0.059</td>\n",
       "    </tr>\n",
       "  </tbody>\n",
       "</table>\n",
       "</div>"
      ],
      "text/plain": [
       "   id diagnosis_result  radius  texture  perimeter  area  smoothness  \\\n",
       "0   1                M      23       12        151   954       0.143   \n",
       "1   2                B       9       13        133  1326       0.143   \n",
       "2   3                M      21       27        130  1203       0.125   \n",
       "3   4                M      14       16         78   386       0.070   \n",
       "4   5                M       9       19        135  1297       0.141   \n",
       "\n",
       "   compactness  symmetry  fractal_dimension  \n",
       "0        0.278     0.242              0.079  \n",
       "1        0.079     0.181              0.057  \n",
       "2        0.160     0.207              0.060  \n",
       "3        0.284     0.260              0.097  \n",
       "4        0.133     0.181              0.059  "
      ]
     },
     "execution_count": 11,
     "metadata": {},
     "output_type": "execute_result"
    }
   ],
   "source": [
    "data.head()"
   ]
  },
  {
   "cell_type": "code",
   "execution_count": 31,
   "metadata": {},
   "outputs": [],
   "source": [
    "inputt=data.iloc[:,2:].values\n",
    "outputt=data.iloc[:,1].values"
   ]
  },
  {
   "cell_type": "code",
   "execution_count": 48,
   "metadata": {},
   "outputs": [
    {
     "name": "stderr",
     "output_type": "stream",
     "text": [
      "C:\\Users\\owner\\Anaconda3\\lib\\site-packages\\sklearn\\cross_validation.py:41: DeprecationWarning: This module was deprecated in version 0.18 in favor of the model_selection module into which all the refactored classes and functions are moved. Also note that the interface of the new CV iterators are different from that of this module. This module will be removed in 0.20.\n",
      "  \"This module will be removed in 0.20.\", DeprecationWarning)\n"
     ]
    }
   ],
   "source": [
    "from sklearn.cross_validation import train_test_split\n",
    "trainx,testx,trainy,testy=train_test_split(inputt,outputt)\n",
    "X=StandardScaler()\n",
    "trainx=X.fit_transform(trainx)\n",
    "testx=X.transform(testx)"
   ]
  },
  {
   "cell_type": "code",
   "execution_count": 64,
   "metadata": {},
   "outputs": [],
   "source": [
    "pca=PCA(n_components=2)\n",
    "dim=pca.fit_transform(trainx)\n",
    "dim2=pca.transform(testx)\n"
   ]
  },
  {
   "cell_type": "code",
   "execution_count": 65,
   "metadata": {},
   "outputs": [
    {
     "data": {
      "text/plain": [
       "array([[ 0.01556417, -1.50354441],\n",
       "       [ 2.16743794, -0.37828022],\n",
       "       [ 0.03580445,  0.76508945],\n",
       "       [-1.56226329, -0.16763212],\n",
       "       [-2.24348661, -0.34036803],\n",
       "       [ 1.83133333,  3.8842721 ],\n",
       "       [-0.780546  , -0.06102848],\n",
       "       [-2.054669  ,  0.77636446],\n",
       "       [-1.40467838,  0.89193391],\n",
       "       [-2.4751774 , -0.68123229],\n",
       "       [ 0.49249192,  0.60616518],\n",
       "       [-1.74645039,  2.27726046],\n",
       "       [ 0.32911885, -1.5303552 ],\n",
       "       [ 3.40429322,  1.99143905],\n",
       "       [ 1.13031723,  0.73597292],\n",
       "       [-0.74661825, -1.4292972 ],\n",
       "       [-1.84422695, -0.2408731 ],\n",
       "       [ 1.20137767,  1.45794409],\n",
       "       [ 5.65292884,  1.30190202],\n",
       "       [ 0.36873155,  2.74611562],\n",
       "       [-2.44305962,  1.0643994 ],\n",
       "       [-1.04390091, -0.9288758 ],\n",
       "       [-1.10396093, -1.13627586],\n",
       "       [-2.81829731, -0.51011194],\n",
       "       [-1.48905229,  1.96467941],\n",
       "       [ 1.89516758, -2.68975604],\n",
       "       [ 1.32802713,  0.06754391],\n",
       "       [ 1.92701964,  0.66412243],\n",
       "       [-1.78135724,  0.16615298],\n",
       "       [-0.19028099,  2.64223108],\n",
       "       [ 1.73475345, -0.81672302],\n",
       "       [ 0.83411642,  0.19076768],\n",
       "       [ 1.50750666, -0.61557038],\n",
       "       [-2.76305589,  1.23579031],\n",
       "       [-0.62856269, -0.30386459],\n",
       "       [ 1.33126373,  0.78120627],\n",
       "       [ 1.29693883, -1.57140589],\n",
       "       [-0.08927368, -2.60434556],\n",
       "       [-2.66614586, -1.57710661],\n",
       "       [ 1.06448478,  0.81778199],\n",
       "       [ 2.3283579 , -2.22740665],\n",
       "       [ 0.66362027, -0.02650435],\n",
       "       [ 0.66713994, -0.11422367],\n",
       "       [-1.51950996,  0.10558908],\n",
       "       [ 1.23679908, -0.98601176],\n",
       "       [ 0.88931344, -0.38582197],\n",
       "       [-2.61138815, -0.04491467],\n",
       "       [-1.67889254,  1.51049732],\n",
       "       [-0.18364965, -0.68197736],\n",
       "       [ 4.20140614,  0.99670569],\n",
       "       [-0.55953768, -2.10999159],\n",
       "       [ 0.0614472 ,  1.00791144],\n",
       "       [ 0.60788293, -1.67650956],\n",
       "       [-1.56831103,  0.29160196],\n",
       "       [-2.4135349 ,  2.04059892],\n",
       "       [-0.89515429,  0.5662644 ],\n",
       "       [ 0.28751959, -1.56326802],\n",
       "       [-1.47560592, -0.84069068],\n",
       "       [-0.22451134,  0.68946482],\n",
       "       [-1.10348894, -0.44303509],\n",
       "       [-0.04455877, -1.79198406],\n",
       "       [ 0.12029422, -1.75376484],\n",
       "       [ 1.67451507,  1.23703365],\n",
       "       [-1.36744819, -1.67014705],\n",
       "       [-0.13286533,  0.3430806 ],\n",
       "       [ 1.14891841, -1.35792123],\n",
       "       [ 3.07110904,  0.27125027],\n",
       "       [ 0.81102761, -1.44744093],\n",
       "       [ 1.47608134,  2.18115686],\n",
       "       [-0.42472024,  0.21338238],\n",
       "       [-2.41428633, -0.45285437],\n",
       "       [-1.60007608,  0.92872799],\n",
       "       [ 1.09823818,  2.52942126],\n",
       "       [ 4.11659717, -3.01866809],\n",
       "       [-1.91634192, -0.2620387 ]])"
      ]
     },
     "execution_count": 65,
     "metadata": {},
     "output_type": "execute_result"
    }
   ],
   "source": [
    "dim"
   ]
  },
  {
   "cell_type": "code",
   "execution_count": 57,
   "metadata": {},
   "outputs": [
    {
     "data": {
      "text/plain": [
       "array(['M', 'M', 'M', 'B', 'M', 'M', 'M', 'B', 'B', 'B', 'M', 'B', 'M',\n",
       "       'M', 'B', 'M', 'B', 'M', 'M', 'M', 'B', 'B', 'M', 'B', 'B', 'B',\n",
       "       'M', 'M', 'B', 'B', 'M', 'M', 'M', 'B', 'M', 'M', 'M', 'M', 'B',\n",
       "       'M', 'M', 'M', 'M', 'B', 'M', 'M', 'B', 'B', 'M', 'M', 'M', 'B',\n",
       "       'M', 'B', 'B', 'M', 'M', 'M', 'M', 'B', 'M', 'M', 'M', 'M', 'M',\n",
       "       'M', 'B', 'M', 'M', 'M', 'B', 'B', 'M', 'M', 'B'], dtype=object)"
      ]
     },
     "execution_count": 57,
     "metadata": {},
     "output_type": "execute_result"
    }
   ],
   "source": [
    "trainy"
   ]
  },
  {
   "cell_type": "code",
   "execution_count": 59,
   "metadata": {},
   "outputs": [
    {
     "data": {
      "text/plain": [
       "<matplotlib.collections.PathCollection at 0xb7ed6d8>"
      ]
     },
     "execution_count": 59,
     "metadata": {},
     "output_type": "execute_result"
    },
    {
     "data": {
      "image/png": "[encoded data removed]",
      "text/plain": [
       "<Figure size 432x288 with 1 Axes>"
      ]
     },
     "metadata": {},
     "output_type": "display_data"
    }
   ],
   "source": [
    "%matplotlib inline\n",
    "plt.scatter(dim[:,0],dim[:,1],c=trainy)"
   ]
  },
  {
   "cell_type": "code",
   "execution_count": 72,
   "metadata": {},
   "outputs": [],
   "source": [
    "import math\n",
    "from math import sqrt"
   ]
  },
  {
   "cell_type": "code",
   "execution_count": 271,
   "metadata": {},
   "outputs": [],
   "source": [
    "def dist(a,b):\n",
    "    return sqrt((a[0]-b[0])**2 + (a[1]-b[1])**2)\n",
    "def majority_vote(labels):\n",
    "    c=Counter(labels)\n",
    "    return list(c.most_common(1)[0])[0]\n",
    "def dist_all(new_point,old_points,k):\n",
    "    distlist=[]\n",
    "    for i in range(len(old_points)):\n",
    "        distlist.append(dist(new_point,old_points[i]))\n",
    "    d=zip(distlist,list(trainy))\n",
    "    dtype=[('num', 'float32'),('alp','S1')]\n",
    "    g=np.array(list(d))\n",
    "    ll=[]\n",
    "    for i in g:\n",
    "        ll.append(tuple(i))\n",
    "    arr=np.array(ll,dtype=dtype)\n",
    "    arr.sort(order='num')\n",
    "    dd=list(arr)[:3]\n",
    "    kkk=[]\n",
    "    for i in range(3):\n",
    "        kkk.append(list(dd[i])[1].decode('UTF-8'))    \n",
    "    return kkk\n",
    "\n",
    "    \n",
    "    \n",
    "    \n",
    "    \n",
    "    \n",
    "        \n",
    "    \n",
    "    \n",
    "def knn_classify(new_point,k,old_points):\n",
    "    return 3\n",
    "    "
   ]
  },
  {
   "cell_type": "code",
   "execution_count": 277,
   "metadata": {},
   "outputs": [
    {
     "data": {
      "text/plain": [
       "['M', 'M', 'B']"
      ]
     },
     "execution_count": 277,
     "metadata": {},
     "output_type": "execute_result"
    }
   ],
   "source": [
    "dist_all(  [-0.90629184, -1.26672973],trainxx,3)"
   ]
  },
  {
   "cell_type": "code",
   "execution_count": 255,
   "metadata": {},
   "outputs": [
    {
     "data": {
      "text/plain": [
       "array(['M', 'M', 'B', 'M', 'B', 'B', 'M', 'M', 'M', 'B', 'B', 'B', 'M',\n",
       "       'M', 'B', 'M', 'B', 'M', 'M', 'M', 'M', 'M', 'B', 'B', 'B'],\n",
       "      dtype=object)"
      ]
     },
     "execution_count": 255,
     "metadata": {},
     "output_type": "execute_result"
    }
   ],
   "source": [
    "testy"
   ]
  },
  {
   "cell_type": "code",
   "execution_count": 254,
   "metadata": {},
   "outputs": [
    {
     "data": {
      "text/plain": [
       "array([[-0.72962913, -0.41043721],\n",
       "       [-0.44412535, -1.20018065],\n",
       "       [-0.93377399, -0.0272588 ],\n",
       "       [ 0.90911795,  1.38207736],\n",
       "       [-2.3898064 ,  0.46641083],\n",
       "       [-1.26742251,  0.79910069],\n",
       "       [ 1.59626614, -0.74628075],\n",
       "       [-0.33157944, -0.34180362],\n",
       "       [ 2.1542289 , -1.12999818],\n",
       "       [ 0.63156258,  0.19448357],\n",
       "       [-0.45533038,  0.76181454],\n",
       "       [ 0.21108899,  2.30243027],\n",
       "       [ 1.99082131, -0.95518705],\n",
       "       [ 1.21149983, -1.82241693],\n",
       "       [ 0.05895373,  2.99052782],\n",
       "       [ 0.11465003,  1.03545063],\n",
       "       [-1.95578433, -0.44364449],\n",
       "       [ 1.66183709,  1.62979629],\n",
       "       [ 0.36340992, -2.93865245],\n",
       "       [-0.39687743,  1.70621999],\n",
       "       [-1.93270036, -1.05703038],\n",
       "       [-0.90629184, -1.26672973],\n",
       "       [-2.53388518, -0.68665349],\n",
       "       [-0.08378094,  0.64505448],\n",
       "       [ 0.60965775,  2.44855797]])"
      ]
     },
     "execution_count": 254,
     "metadata": {},
     "output_type": "execute_result"
    }
   ],
   "source": [
    "dim2"
   ]
  },
  {
   "cell_type": "code",
   "execution_count": 104,
   "metadata": {},
   "outputs": [
    {
     "data": {
      "text/plain": [
       "'a'"
      ]
     },
     "execution_count": 104,
     "metadata": {},
     "output_type": "execute_result"
    }
   ],
   "source": [
    "majority_vote(['a','a','b','b','a'])"
   ]
  },
  {
   "cell_type": "code",
   "execution_count": null,
   "metadata": {},
   "outputs": [],
   "source": [
    "#ohhhh yeahhhhhhhh"
   ]
  },
  {
   "cell_type": "code",
   "execution_count": 256,
   "metadata": {},
   "outputs": [],
   "source": []
  },
  {
   "cell_type": "code",
   "execution_count": null,
   "metadata": {},
   "outputs": [],
   "source": []
  },
  {
   "cell_type": "code",
   "execution_count": null,
   "metadata": {},
   "outputs": [],
   "source": []
  },
  {
   "cell_type": "code",
   "execution_count": null,
   "metadata": {},
   "outputs": [],
   "source": []
  },
  {
   "cell_type": "code",
   "execution_count": null,
   "metadata": {},
   "outputs": [],
   "source": []
  },
  {
   "cell_type": "code",
   "execution_count": null,
   "metadata": {},
   "outputs": [],
   "source": []
  },
  {
   "cell_type": "code",
   "execution_count": null,
   "metadata": {},
   "outputs": [],
   "source": []
  },
  {
   "cell_type": "code",
   "execution_count": null,
   "metadata": {},
   "outputs": [],
   "source": []
  },
  {
   "cell_type": "code",
   "execution_count": null,
   "metadata": {},
   "outputs": [],
   "source": []
  },
  {
   "cell_type": "code",
   "execution_count": null,
   "metadata": {},
   "outputs": [],
   "source": []
  },
  {
   "cell_type": "code",
   "execution_count": null,
   "metadata": {},
   "outputs": [],
   "source": []
  },
  {
   "cell_type": "code",
   "execution_count": null,
   "metadata": {},
   "outputs": [],
   "source": []
  }
 ],
 "metadata": {
  "kernelspec": {
   "display_name": "Python 3",
   "language": "python",
   "name": "python3"
  },
  "language_info": {
   "codemirror_mode": {
    "name": "ipython",
    "version": 3
   },
   "file_extension": ".py",
   "mimetype": "text/x-python",
   "name": "python",
   "nbconvert_exporter": "python",
   "pygments_lexer": "ipython3",
   "version": "3.6.5"
  }
 },
 "nbformat": 4,
 "nbformat_minor": 2
}
