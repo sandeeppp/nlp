{
 "cells": [
  {
   "cell_type": "code",
   "execution_count": 1,
   "metadata": {},
   "outputs": [],
   "source": [
    "from textblob import TextBlob\n",
    "import sys,tweepy\n",
    "import matplotlib.pyplot as plt\n",
    "%matplotlib inline\n"
   ]
  },
  {
   "cell_type": "code",
   "execution_count": 4,
   "metadata": {},
   "outputs": [
    {
     "name": "stdout",
     "output_type": "stream",
     "text": [
      "Enter Keyword to search : modi\n",
      "Enter how many tweets : 20\n",
      "General Report: \n",
      "Weakly Negative\n",
      "\n",
      "Detailed Report: \n",
      "5.00% people thought it was positive\n",
      "15.00% people thought it was weakly positive\n",
      "0.00% people thought it was strongly positive\n",
      "10.00% people thought it was negative\n",
      "30.00% people thought it was weakly negative\n",
      "0.00% people thought it was strongly negative\n",
      "40.00% people thought it was neutral\n"
     ]
    },
    {
     "data": {
      "image/png": "[encoded data removed]",
      "text/plain": [
       "<Figure size 432x288 with 1 Axes>"
      ]
     },
     "metadata": {},
     "output_type": "display_data"
    }
   ],
   "source": [
    "import sys,tweepy,csv,re\n",
    "from textblob import TextBlob\n",
    "import matplotlib.pyplot as plt\n",
    "# keep those keys secret bcos with those someone else can tweet from your accout\n",
    "\n",
    "class SentimentAnalysis:\n",
    "\n",
    "    def __init__(self):\n",
    "        self.tweets = []\n",
    "        self.tweetText = []\n",
    "\n",
    "    def DownloadData(self):\n",
    "        # authenticating  #connecting with the api's\n",
    "        consumerKey = 'PPP84YZ3Tuc6z1iHxkBVhHAyNhw'\n",
    "        consumerSecret = 'PPJlhrbGufEFTJuzrVBnGvxn7ZWTv8iH6Xbr2SgjNxfAdYC8Ynsi'\n",
    "        accessToken = 'PP1039839866433892352-Vp33Kxb8gA2vSnVn5RMHeJJS2nzt3g'\n",
    "        accessTokenSecret = 'PPtUHNGXfoJDCW3b1VHo3Sw4ro5X0umtaqDcgYEiCrfiCD5'\n",
    "        auth = tweepy.OAuthHandler(consumerKey, consumerSecret)\n",
    "        auth.set_access_token(accessToken, accessTokenSecret)\n",
    "        api = tweepy.API(auth)\n",
    "        #OAuth for authentication\n",
    "        #we create authorisation to our api's and we reate an api object\n",
    "        # input for term to be searched and how many tweets to search\n",
    "        searchTerm = input(\"Enter Keyword to search : \")\n",
    "        NoOfTerms = int(input(\"Enter how many tweets : \"))\n",
    "\n",
    "        # searching for tweets#we search the search term with help of api\n",
    "        self.tweets = tweepy.Cursor(api.search, q=searchTerm, lang = \"en\").items(NoOfTerms)\n",
    "        csvFile = open('result.csv', 'a')\n",
    "        csvWriter = csv.writer(csvFile)\n",
    "        polarity = 0\n",
    "        positive = 0\n",
    "        wpositive = 0\n",
    "        spositive = 0\n",
    "        negative = 0\n",
    "        wnegative = 0\n",
    "        snegative = 0\n",
    "        neutral = 0\n",
    "\n",
    "        #text blob gives the polarity of a string or a sentence between -1 to 1\n",
    "        # iterating through tweets fetched\n",
    "        for tweet in self.tweets:\n",
    "            #Append to temp so that we can store in csv later. I use encode UTF-8\n",
    "            self.tweetText.append(self.cleanTweet(tweet.text).encode('utf-8'))\n",
    "            # print (tweet.text.translate(non_bmp_map))    #print tweet's text\n",
    "            analysis = TextBlob(tweet.text)\n",
    "            # print(analysis.sentiment)  # print tweet's polarity\n",
    "            polarity += analysis.sentiment.polarity  # adding up polarities to find the average later\n",
    "\n",
    "            if (analysis.sentiment.polarity == 0):  # adding reaction of how people are reacting to find average later\n",
    "                neutral += 1\n",
    "            elif (analysis.sentiment.polarity > 0 and analysis.sentiment.polarity <= 0.3):\n",
    "                wpositive += 1\n",
    "            elif (analysis.sentiment.polarity > 0.3 and analysis.sentiment.polarity <= 0.6):\n",
    "                positive += 1\n",
    "            elif (analysis.sentiment.polarity > 0.6 and analysis.sentiment.polarity <= 1):\n",
    "                spositive += 1\n",
    "            elif (analysis.sentiment.polarity > -0.3 and analysis.sentiment.polarity <= 0):\n",
    "                wnegative += 1\n",
    "            elif (analysis.sentiment.polarity > -0.6 and analysis.sentiment.polarity <= -0.3):\n",
    "                negative += 1\n",
    "            elif (analysis.sentiment.polarity > -1 and analysis.sentiment.polarity <= -0.6):\n",
    "                snegative += 1\n",
    "\n",
    "\n",
    "        # Write to csv and close csv file\n",
    "        csvWriter.writerow(self.tweetText)\n",
    "        csvFile.close()\n",
    "\n",
    "        # finding average of how people are reacting\n",
    "        positive = self.percentage(positive, NoOfTerms)\n",
    "        wpositive = self.percentage(wpositive, NoOfTerms)\n",
    "        spositive = self.percentage(spositive, NoOfTerms)\n",
    "        negative = self.percentage(negative, NoOfTerms)\n",
    "        wnegative = self.percentage(wnegative, NoOfTerms)\n",
    "        snegative = self.percentage(snegative, NoOfTerms)\n",
    "        neutral = self.percentage(neutral, NoOfTerms)\n",
    "\n",
    "        # finding average reaction\n",
    "        polarity = polarity / NoOfTerms\n",
    "\n",
    "        # printing out data\n",
    "        print(\"General Report: \")\n",
    "\n",
    "        if (polarity == 0):\n",
    "            print(\"Neutral\")\n",
    "        elif (polarity > 0 and polarity <= 0.3):\n",
    "            print(\"Weakly Positive\")\n",
    "        elif (polarity > 0.3 and polarity <= 0.6):\n",
    "            print(\"Positive\")\n",
    "        elif (polarity > 0.6 and polarity <= 1):\n",
    "            print(\"Strongly Positive\")\n",
    "        elif (polarity > -0.3 and polarity <= 0):\n",
    "            print(\"Weakly Negative\")\n",
    "        elif (polarity > -0.6 and polarity <= -0.3):\n",
    "            print(\"Negative\")\n",
    "        elif (polarity > -1 and polarity <= -0.6):\n",
    "            print(\"Strongly Negative\")\n",
    "\n",
    "        print()\n",
    "        print(\"Detailed Report: \")\n",
    "        print(str(positive) + \"% people thought it was positive\")\n",
    "        print(str(wpositive) + \"% people thought it was weakly positive\")\n",
    "        print(str(spositive) + \"% people thought it was strongly positive\")\n",
    "        print(str(negative) + \"% people thought it was negative\")\n",
    "        print(str(wnegative) + \"% people thought it was weakly negative\")\n",
    "        print(str(snegative) + \"% people thought it was strongly negative\")\n",
    "        print(str(neutral) + \"% people thought it was neutral\")\n",
    "\n",
    "        self.plotPieChart(positive, wpositive, spositive, negative, wnegative, snegative, neutral, searchTerm, NoOfTerms)\n",
    "\n",
    "\n",
    "    def cleanTweet(self, tweet):\n",
    "        # Remove Links, Special Characters etc from tweet\n",
    "        return ' '.join(re.sub(\"(@[A-Za-z0-9]+)|([^0-9A-Za-z \\t]) | (\\w +:\\ / \\ / \\S +)\", \" \", tweet).split())\n",
    "\n",
    "    # function to calculate percentage\n",
    "    def percentage(self, part, whole):\n",
    "        temp = 100 * float(part) / float(whole)\n",
    "        return format(temp, '.2f')\n",
    "\n",
    "    def plotPieChart(self, positive, wpositive, spositive, negative, wnegative, snegative, neutral, searchTerm, noOfSearchTerms):\n",
    "        labels = ['Positive [' + str(positive) + '%]', 'Weakly Positive [' + str(wpositive) + '%]','Strongly Positive [' + str(spositive) + '%]', 'Neutral [' + str(neutral) + '%]',\n",
    "                  'Negative [' + str(negative) + '%]', 'Weakly Negative [' + str(wnegative) + '%]', 'Strongly Negative [' + str(snegative) + '%]']\n",
    "        sizes = [positive, wpositive, spositive, neutral, negative, wnegative, snegative]\n",
    "        colors = ['yellowgreen','lightgreen','darkgreen', 'gold', 'red','lightsalmon','darkred']\n",
    "        patches, texts = plt.pie(sizes, colors=colors, startangle=90)\n",
    "        plt.legend(patches, labels, loc=\"best\")\n",
    "        plt.title( searchTerm + ' on' + str(noOfSearchTerms) + ' Tweets.')\n",
    "        plt.axis('equal')\n",
    "        plt.show()\n",
    "\n",
    "\n",
    "\n",
    "sa = SentimentAnalysis()\n",
    "sa.DownloadData()"
   ]
  },
  {
   "cell_type": "code",
   "execution_count": 7,
   "metadata": {},
   "outputs": [
    {
     "data": {
      "text/plain": [
       "0.0"
      ]
     },
     "execution_count": 7,
     "metadata": {},
     "output_type": "execute_result"
    }
   ],
   "source": [
    "from textblob import TextBlob\n",
    "x='im a very talented guy'\n",
    "y='im a cricketer'\n",
    "z='im a worst kind of human'\n",
    "TextBlob(y).sentiment.polarity"
   ]
  },
  {
   "cell_type": "code",
   "execution_count": 8,
   "metadata": {},
   "outputs": [
    {
     "data": {
      "text/plain": [
       "<matplotlib.legend.Legend at 0xbffeda0>"
      ]
     },
     "execution_count": 8,
     "metadata": {},
     "output_type": "execute_result"
    },
    {
     "data": {
      "image/png": "[encoded data removed]",
      "text/plain": [
       "<Figure size 432x288 with 1 Axes>"
      ]
     },
     "metadata": {},
     "output_type": "display_data"
    }
   ],
   "source": [
    "patches,text=plt.pie([20,30,40,10],colors=['red','blue','salmon','yellowgreen'])\n",
    "labels=['dog','horse','cheetah','human']\n",
    "plt.legend(patches,labels)"
   ]
  },
  {
   "cell_type": "code",
   "execution_count": null,
   "metadata": {},
   "outputs": [],
   "source": []
  }
 ],
 "metadata": {
  "kernelspec": {
   "display_name": "Python 3",
   "language": "python",
   "name": "python3"
  },
  "language_info": {
   "codemirror_mode": {
    "name": "ipython",
    "version": 3
   },
   "file_extension": ".py",
   "mimetype": "text/x-python",
   "name": "python",
   "nbconvert_exporter": "python",
   "pygments_lexer": "ipython3",
   "version": "3.6.7"
  }
 },
 "nbformat": 4,
 "nbformat_minor": 2
}
