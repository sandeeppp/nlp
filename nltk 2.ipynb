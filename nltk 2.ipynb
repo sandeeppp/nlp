{
 "cells": [
  {
   "cell_type": "code",
   "execution_count": 2,
   "metadata": {},
   "outputs": [],
   "source": [
    "import nltk\n",
    "import random\n",
    "from nltk.corpus import movie_reviews\n",
    "# every item has 0/1  ,  review  ,  fileid"
   ]
  },
  {
   "cell_type": "code",
   "execution_count": 2,
   "metadata": {},
   "outputs": [],
   "source": [
    "#movie_reviews.words()# there are 1000 + and 1000 - reviews in the data"
   ]
  },
  {
   "cell_type": "code",
   "execution_count": 3,
   "metadata": {},
   "outputs": [],
   "source": [
    "#movie_reviews.categories()"
   ]
  },
  {
   "cell_type": "code",
   "execution_count": 4,
   "metadata": {},
   "outputs": [],
   "source": [
    "#len(movie_reviews.fileids('neg'))\n",
    "#movie_reviews.fileids('pos')"
   ]
  },
  {
   "cell_type": "code",
   "execution_count": 6,
   "metadata": {},
   "outputs": [],
   "source": [
    "docs=[(list(movie_reviews.words(fileid)),category) for category in movie_reviews.categories() for fileid in movie_reviews.fileids(category) ]\n",
    "random.shuffle(docs)\n",
    "#print(docs[2])# prints a single review with positive or negative at the end\n",
    "#len(docs)# there are 2000 reviews with labels to train the model to tell a new review whether it is + or -"
   ]
  },
  {
   "cell_type": "code",
   "execution_count": 6,
   "metadata": {},
   "outputs": [],
   "source": [
    "all_words=[]\n",
    "for i in movie_reviews.words():\n",
    "    all_words.append(i.lower())"
   ]
  },
  {
   "cell_type": "code",
   "execution_count": 7,
   "metadata": {},
   "outputs": [],
   "source": [
    "#len(all_words)\n",
    "#all_words"
   ]
  },
  {
   "cell_type": "code",
   "execution_count": 8,
   "metadata": {},
   "outputs": [],
   "source": [
    "k=nltk.FreqDist(all_words)\n",
    "l=k.most_common(3000)\n",
    "most3000=[a for a,b in l]\n",
    "#most3000"
   ]
  },
  {
   "cell_type": "code",
   "execution_count": 9,
   "metadata": {},
   "outputs": [
    {
     "data": {
      "text/plain": [
       "2411"
      ]
     },
     "execution_count": 9,
     "metadata": {},
     "output_type": "execute_result"
    }
   ],
   "source": [
    "k['good']"
   ]
  },
  {
   "cell_type": "code",
   "execution_count": 10,
   "metadata": {},
   "outputs": [
    {
     "data": {
      "text/plain": [
       "253"
      ]
     },
     "execution_count": 10,
     "metadata": {},
     "output_type": "execute_result"
    }
   ],
   "source": [
    "k['stupid']"
   ]
  },
  {
   "cell_type": "code",
   "execution_count": 11,
   "metadata": {},
   "outputs": [
    {
     "data": {
      "text/plain": [
       "35"
      ]
     },
     "execution_count": 11,
     "metadata": {},
     "output_type": "execute_result"
    }
   ],
   "source": [
    "k['awesome']"
   ]
  },
  {
   "cell_type": "code",
   "execution_count": 12,
   "metadata": {},
   "outputs": [
    {
     "data": {
      "text/plain": [
       "26"
      ]
     },
     "execution_count": 12,
     "metadata": {},
     "output_type": "execute_result"
    }
   ],
   "source": [
    "k['shit']"
   ]
  },
  {
   "cell_type": "code",
   "execution_count": 13,
   "metadata": {},
   "outputs": [
    {
     "data": {
      "text/plain": [
       "39768"
      ]
     },
     "execution_count": 13,
     "metadata": {},
     "output_type": "execute_result"
    }
   ],
   "source": [
    "#k.keys()# whole lot of words\n",
    "#k.values()# whole lot of numbers\n",
    "# k is a dictionary\n",
    "len(k)"
   ]
  },
  {
   "cell_type": "code",
   "execution_count": 14,
   "metadata": {},
   "outputs": [],
   "source": [
    "def find_feat (doc):\n",
    "    words=set(doc)\n",
    "    feat={}\n",
    "    for w in most3000:\n",
    "        feat[w]=(w in words)\n",
    "    return feat\n"
   ]
  },
  {
   "cell_type": "code",
   "execution_count": 15,
   "metadata": {},
   "outputs": [],
   "source": [
    "featsets=[(find_feat(rev),category) for (rev,category) in docs]"
   ]
  },
  {
   "cell_type": "code",
   "execution_count": null,
   "metadata": {},
   "outputs": [],
   "source": []
  },
  {
   "cell_type": "code",
   "execution_count": 16,
   "metadata": {},
   "outputs": [],
   "source": [
    "#print((find_feat(movie_reviews.words( 'pos/cv988_18740.txt'))))#if the most3000 words as features cretes a something like a sparse matrix"
   ]
  },
  {
   "cell_type": "code",
   "execution_count": 17,
   "metadata": {},
   "outputs": [
    {
     "name": "stdout",
     "output_type": "stream",
     "text": [
      "0.8757894736842106\n",
      "Most Informative Features\n",
      "             outstanding = True              pos : neg    =     11.0 : 1.0\n",
      "                   mulan = True              pos : neg    =      9.0 : 1.0\n",
      "                  finest = True              pos : neg    =      7.9 : 1.0\n",
      "                  seagal = True              neg : pos    =      7.8 : 1.0\n",
      "                 idiotic = True              neg : pos    =      7.4 : 1.0\n",
      "              schumacher = True              neg : pos    =      7.4 : 1.0\n",
      "             wonderfully = True              pos : neg    =      6.6 : 1.0\n",
      "                religion = True              pos : neg    =      6.3 : 1.0\n",
      "                   damon = True              pos : neg    =      6.1 : 1.0\n",
      "                   jolie = True              neg : pos    =      5.8 : 1.0\n",
      "                   waste = True              neg : pos    =      5.8 : 1.0\n",
      "                lebowski = True              pos : neg    =      5.7 : 1.0\n",
      "                   flynt = True              pos : neg    =      5.7 : 1.0\n",
      "                   inept = True              neg : pos    =      5.4 : 1.0\n",
      "              ridiculous = True              neg : pos    =      5.1 : 1.0\n"
     ]
    }
   ],
   "source": [
    "training_set=featsets[:1900]\n",
    "test_set=featsets[1900:]\n",
    "clf=nltk.NaiveBayesClassifier.train(training_set)\n",
    "print(nltk.classify.accuracy(clf,training_set))\n",
    "clf.show_most_informative_features(15)"
   ]
  },
  {
   "cell_type": "code",
   "execution_count": null,
   "metadata": {},
   "outputs": [],
   "source": []
  },
  {
   "cell_type": "code",
   "execution_count": null,
   "metadata": {},
   "outputs": [],
   "source": []
  }
 ],
 "metadata": {
  "kernelspec": {
   "display_name": "Python 3",
   "language": "python",
   "name": "python3"
  },
  "language_info": {
   "codemirror_mode": {
    "name": "ipython",
    "version": 3
   },
   "file_extension": ".py",
   "mimetype": "text/x-python",
   "name": "python",
   "nbconvert_exporter": "python",
   "pygments_lexer": "ipython3",
   "version": "3.6.5"
  }
 },
 "nbformat": 4,
 "nbformat_minor": 2
}
