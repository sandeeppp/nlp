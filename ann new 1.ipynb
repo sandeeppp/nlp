{
 "cells": [
  {
   "cell_type": "raw",
   "metadata": {},
   "source": [
    "artificial neural network we artificially try to mimik the human brain the more the the hidden layers the more \n",
    "the power to the network we mpstly use rectifer activation function on hidden layers and sigmoid activation function \n",
    "on output layer"
   ]
  },
  {
   "cell_type": "raw",
   "metadata": {},
   "source": [
    "given the input layer with the help of hidden layer we some how create a new set of features out of input features which \n",
    "are mainly useful to classify 1 or 0 ,every neuron in hidden layer beomes a new feature comprising of input features"
   ]
  },
  {
   "cell_type": "raw",
   "metadata": {},
   "source": [
    "classify dags and cats\n",
    "we dont write rules to classify we just write the architecture and give data and say learn"
   ]
  },
  {
   "cell_type": "raw",
   "metadata": {},
   "source": [
    "curse of dimensionality is that as the dimensions increases the time to compute it increase exponentially"
   ]
  },
  {
   "cell_type": "code",
   "execution_count": null,
   "metadata": {},
   "outputs": [],
   "source": []
  }
 ],
 "metadata": {
  "kernelspec": {
   "display_name": "Python 3",
   "language": "python",
   "name": "python3"
  },
  "language_info": {
   "codemirror_mode": {
    "name": "ipython",
    "version": 3
   },
   "file_extension": ".py",
   "mimetype": "text/x-python",
   "name": "python",
   "nbconvert_exporter": "python",
   "pygments_lexer": "ipython3",
   "version": "3.7.0"
  }
 },
 "nbformat": 4,
 "nbformat_minor": 2
}
