{
 "cells": [
  {
   "cell_type": "markdown",
   "metadata": {},
   "source": [
    "marrying nltk with scikit learn to use sklearns algos on nltk"
   ]
  },
  {
   "cell_type": "code",
   "execution_count": 4,
   "metadata": {},
   "outputs": [],
   "source": [
    "import nltk\n",
    "import random\n",
    "from nltk.corpus import movie_reviews\n",
    "import numpy\n",
    "from sklearn.linear_model import LogisticRegression,SGDClassifier\n",
    "from sklearn.naive_bayes import MultinomialNB, GaussianNB, BernoulliNB\n",
    "from sklearn.svm import SVC,LinearSVC,NuSVC\n",
    "from nltk.classify.scikitlearn import SklearnClassifier"
   ]
  },
  {
   "cell_type": "code",
   "execution_count": 5,
   "metadata": {},
   "outputs": [],
   "source": [
    "docs=[(list(movie_reviews.words(fileid)),category) for category in movie_reviews.categories() for fileid in movie_reviews.fileids(category) ]\n",
    "random.shuffle(docs)"
   ]
  },
  {
   "cell_type": "code",
   "execution_count": 6,
   "metadata": {},
   "outputs": [],
   "source": [
    "all_words=[]\n",
    "for i in movie_reviews.words():\n",
    "    all_words.append(i.lower())# list of all words in all the 2000 reviews"
   ]
  },
  {
   "cell_type": "code",
   "execution_count": 7,
   "metadata": {},
   "outputs": [],
   "source": [
    "k=nltk.FreqDist(all_words)# dict if all the words and thier frequencies\n",
    "l=k.most_common(3000)\n",
    "most3000=[a for a,b in l]"
   ]
  },
  {
   "cell_type": "code",
   "execution_count": 8,
   "metadata": {
    "collapsed": true
   },
   "outputs": [],
   "source": [
    "def find_feat (doc):\n",
    "    words=set(doc)\n",
    "    feat={}\n",
    "    for w in most3000:\n",
    "        feat[w]=(w in words)\n",
    "    return feat# feat is a mathematically compuatational easy doc or data for  a single review"
   ]
  },
  {
   "cell_type": "code",
   "execution_count": 9,
   "metadata": {},
   "outputs": [],
   "source": [
    "featsets=[(find_feat(rev),category) for (rev,category) in docs]# all the data with their labels in easy format"
   ]
  },
  {
   "cell_type": "code",
   "execution_count": 10,
   "metadata": {},
   "outputs": [],
   "source": [
    "training_set=featsets[:1900]\n",
    "test_set=featsets[1900:]"
   ]
  },
  {
   "cell_type": "code",
   "execution_count": 11,
   "metadata": {},
   "outputs": [
    {
     "name": "stdout",
     "output_type": "stream",
     "text": [
      "0.8757894736842106\n"
     ]
    }
   ],
   "source": [
    "clf=nltk.NaiveBayesClassifier.train(training_set)\n",
    "print(nltk.classify.accuracy(clf,training_set))"
   ]
  },
  {
   "cell_type": "code",
   "execution_count": 12,
   "metadata": {},
   "outputs": [
    {
     "name": "stdout",
     "output_type": "stream",
     "text": [
      "0.8805263157894737\n"
     ]
    }
   ],
   "source": [
    "clf6=SklearnClassifier(SVC()).train(training_set)\n",
    "print(nltk.classify.accuracy(clf6,training_set))"
   ]
  },
  {
   "cell_type": "code",
   "execution_count": 13,
   "metadata": {},
   "outputs": [
    {
     "name": "stderr",
     "output_type": "stream",
     "text": [
      "C:\\Users\\owner\\Anaconda3\\lib\\site-packages\\sklearn\\linear_model\\stochastic_gradient.py:128: FutureWarning: max_iter and tol parameters have been added in <class 'sklearn.linear_model.stochastic_gradient.SGDClassifier'> in 0.19. If both are left unset, they default to max_iter=5 and tol=None. If tol is not None, max_iter defaults to max_iter=1000. From 0.21, default max_iter will be 1000, and default tol will be 1e-3.\n",
      "  \"and default tol will be 1e-3.\" % type(self), FutureWarning)\n"
     ]
    },
    {
     "name": "stdout",
     "output_type": "stream",
     "text": [
      "0.9826315789473684\n"
     ]
    }
   ],
   "source": [
    "clf5=SklearnClassifier(SGDClassifier()).train(training_set)\n",
    "print(nltk.classify.accuracy(clf5,training_set))"
   ]
  },
  {
   "cell_type": "code",
   "execution_count": 14,
   "metadata": {},
   "outputs": [
    {
     "name": "stdout",
     "output_type": "stream",
     "text": [
      "1.0\n"
     ]
    }
   ],
   "source": [
    "clf4=SklearnClassifier(LogisticRegression()).train(training_set)\n",
    "print(nltk.classify.accuracy(clf4,training_set))"
   ]
  },
  {
   "cell_type": "code",
   "execution_count": 15,
   "metadata": {},
   "outputs": [
    {
     "name": "stdout",
     "output_type": "stream",
     "text": [
      "0.8757894736842106\n"
     ]
    }
   ],
   "source": [
    "clf3=SklearnClassifier(BernoulliNB()).train(training_set)\n",
    "print(nltk.classify.accuracy(clf3,training_set))"
   ]
  },
  {
   "cell_type": "code",
   "execution_count": null,
   "metadata": {},
   "outputs": [],
   "source": []
  },
  {
   "cell_type": "code",
   "execution_count": 17,
   "metadata": {},
   "outputs": [
    {
     "name": "stdout",
     "output_type": "stream",
     "text": [
      "1.0\n"
     ]
    }
   ],
   "source": [
    "clf7=SklearnClassifier(LinearSVC()).train(training_set)\n",
    "print(nltk.classify.accuracy(clf7,training_set))"
   ]
  },
  {
   "cell_type": "code",
   "execution_count": 18,
   "metadata": {},
   "outputs": [
    {
     "name": "stdout",
     "output_type": "stream",
     "text": [
      "0.9747368421052631\n"
     ]
    }
   ],
   "source": [
    "clf8=SklearnClassifier(NuSVC()).train(training_set)\n",
    "print(nltk.classify.accuracy(clf8,training_set))"
   ]
  },
  {
   "cell_type": "code",
   "execution_count": 20,
   "metadata": {},
   "outputs": [
    {
     "name": "stdout",
     "output_type": "stream",
     "text": [
      "0.8936842105263157\n"
     ]
    }
   ],
   "source": [
    "clf1=SklearnClassifier(MultinomialNB()).train(training_set)\n",
    "#clf1=MultinomialNB.train(training_set)\n",
    "print(nltk.classify.accuracy(clf1,training_set))# we can do this with all other type of algorithms and classifiers"
   ]
  },
  {
   "cell_type": "code",
   "execution_count": 23,
   "metadata": {},
   "outputs": [],
   "source": [
    "from nltk.classify import ClassifierI\n",
    "from statistics import mode"
   ]
  },
  {
   "cell_type": "code",
   "execution_count": 24,
   "metadata": {},
   "outputs": [],
   "source": [
    "class vote_classifier(ClassifierI):\n",
    "    def __init__(self,*classifiers):\n",
    "        self._classifiers=classifiers\n",
    "    def classify(self,features):\n",
    "        votes=[]\n",
    "        for c in self._classifiers:\n",
    "            v=c.classify(features)\n",
    "            votes.append(v)\n",
    "        return mode(votes)# we are taking votes on our reviews by all our 7 classifiers the majority wins we can also calculate confidence how good is the output\n",
    "\n",
    "voteddclassifier=vote_classifier( clf,clf1,clf3,clf4,clf5,clf6,clf8)"
   ]
  },
  {
   "cell_type": "code",
   "execution_count": 25,
   "metadata": {},
   "outputs": [
    {
     "name": "stdout",
     "output_type": "stream",
     "text": [
      "classification pos\n"
     ]
    }
   ],
   "source": [
    "print('classification',voteddclassifier.classify(test_set[0][0]))"
   ]
  },
  {
   "cell_type": "code",
   "execution_count": 26,
   "metadata": {},
   "outputs": [
    {
     "name": "stdout",
     "output_type": "stream",
     "text": [
      "accuracy of our new classifier 0.86\n"
     ]
    }
   ],
   "source": [
    "print('accuracy of our new classifier',(nltk.classify.accuracy(voteddclassifier,test_set)))"
   ]
  },
  {
   "cell_type": "code",
   "execution_count": 27,
   "metadata": {},
   "outputs": [
    {
     "name": "stdout",
     "output_type": "stream",
     "text": [
      "classification neg\n"
     ]
    }
   ],
   "source": [
    "print('classification',voteddclassifier.classify(test_set[1][0]))"
   ]
  },
  {
   "cell_type": "code",
   "execution_count": null,
   "metadata": {},
   "outputs": [],
   "source": []
  }
 ],
 "metadata": {
  "kernelspec": {
   "display_name": "Python 3",
   "language": "python",
   "name": "python3"
  },
  "language_info": {
   "codemirror_mode": {
    "name": "ipython",
    "version": 3
   },
   "file_extension": ".py",
   "mimetype": "text/x-python",
   "name": "python",
   "nbconvert_exporter": "python",
   "pygments_lexer": "ipython3",
   "version": "3.6.5"
  }
 },
 "nbformat": 4,
 "nbformat_minor": 2
}
