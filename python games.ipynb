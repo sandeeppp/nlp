{
 "cells": [
  {
   "cell_type": "code",
   "execution_count": 56,
   "metadata": {},
   "outputs": [
    {
     "data": {
      "text/plain": [
       "'soul of independence to happened what'"
      ]
     },
     "execution_count": 56,
     "metadata": {},
     "output_type": "execute_result"
    }
   ],
   "source": [
    "# reverses a string\n",
    "string='what happened to independence of soul'\n",
    "v=string.split()\n",
    "import numpy as np\n",
    "np.arange(len(v))\n",
    "ll=list(np.linspace(len(v)-1,0,len(v)))\n",
    "lll=[]\n",
    "for i in ll:\n",
    "    lll.append(int(i))\n",
    "k=list(np.array(v)[lll])\n",
    "' '.join(k)"
   ]
  },
  {
   "cell_type": "code",
   "execution_count": 80,
   "metadata": {},
   "outputs": [
    {
     "name": "stdout",
     "output_type": "stream",
     "text": [
      "please enter pass word size:13\n"
     ]
    },
    {
     "data": {
      "text/plain": [
       "'O8HkQolmreqW9'"
      ]
     },
     "execution_count": 80,
     "metadata": {},
     "output_type": "execute_result"
    }
   ],
   "source": [
    "#create a password of given size\n",
    "size=int(input('please enter pass word size:'))\n",
    "stringg=string.ascii_lowercase+string.ascii_uppercase+string.digits\n",
    "''.join(random.sample(stringg,size))"
   ]
  },
  {
   "cell_type": "code",
   "execution_count": null,
   "metadata": {},
   "outputs": [],
   "source": [
    "# cows and bulls game of guessing a number\n",
    "import random\n",
    "number=str(random.randint(0,9999))\n",
    "for j in range(40):\n",
    "    guess=str(input('please enter you guess:'))\n",
    "    cows=0\n",
    "    bulls=0\n",
    "    for i in range(len(number)):\n",
    "        if number[i]==guess[i]:\n",
    "            bulls=bulls+1\n",
    "    print('bulls are' ,bulls,'and cows are',4-bulls)\n",
    "    if bulls==4:\n",
    "        print(\"you're good u did it in\",j+1)\n",
    "        break\n",
    "    else:\n",
    "        continue\n",
    "        \n",
    "    "
   ]
  },
  {
   "cell_type": "code",
   "execution_count": 6,
   "metadata": {},
   "outputs": [
    {
     "name": "stdout",
     "output_type": "stream",
     "text": [
      "please enter your guess:40\n",
      "yours is smaller enter another guess:70\n",
      "yours is larger enter another guess:55\n",
      "yours is larger enter another guess:48\n",
      "yours is larger enter another guess:44\n",
      "yours is smaller enter another guess:46\n",
      "you guessed it right\n"
     ]
    }
   ],
   "source": [
    "# guess the number\n",
    "import random\n",
    "number=random.randint(0,99)\n",
    "guess=int(input('please enter your guess:'))\n",
    "while guess!=number:\n",
    "    if number>guess:\n",
    "        guess=int(input('yours is smaller enter another guess:'))\n",
    "        continue\n",
    "    elif number<guess:\n",
    "        guess=int(input('yours is larger enter another guess:'))\n",
    "        continue\n",
    "print('you guessed it right')\n",
    "        \n"
   ]
  },
  {
   "cell_type": "code",
   "execution_count": null,
   "metadata": {},
   "outputs": [],
   "source": []
  }
 ],
 "metadata": {
  "kernelspec": {
   "display_name": "Python 3",
   "language": "python",
   "name": "python3"
  },
  "language_info": {
   "codemirror_mode": {
    "name": "ipython",
    "version": 3
   },
   "file_extension": ".py",
   "mimetype": "text/x-python",
   "name": "python",
   "nbconvert_exporter": "python",
   "pygments_lexer": "ipython3",
   "version": "3.6.7"
  }
 },
 "nbformat": 4,
 "nbformat_minor": 2
}
