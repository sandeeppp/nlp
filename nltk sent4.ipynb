{
 "cells": [
  {
   "cell_type": "markdown",
   "metadata": {},
   "source": [
    "#new data + and - text"
   ]
  },
  {
   "cell_type": "code",
   "execution_count": 1,
   "metadata": {},
   "outputs": [],
   "source": [
    "import nltk\n",
    "import random\n",
    "from nltk.corpus import movie_reviews\n",
    "import numpy\n",
    "from sklearn.linear_model import LogisticRegression,SGDClassifier\n",
    "from sklearn.naive_bayes import MultinomialNB, GaussianNB, BernoulliNB\n",
    "from sklearn.svm import SVC,LinearSVC,NuSVC\n",
    "from nltk.classify.scikitlearn import SklearnClassifier\n",
    "from nltk.classify import ClassifierI\n",
    "from statistics import mode\n",
    "from nltk import word_tokenize"
   ]
  },
  {
   "cell_type": "code",
   "execution_count": 2,
   "metadata": {},
   "outputs": [],
   "source": [
    "class vote_classifier(ClassifierI):\n",
    "    def __init__(self,*classifiers):\n",
    "        self._classifiers=classifiers\n",
    "    def classify(self,features):\n",
    "        votes=[]\n",
    "        for c in self._classifiers:\n",
    "            v=c.classify(features)\n",
    "            votes.append(v)\n",
    "        return mode(votes)"
   ]
  },
  {
   "cell_type": "code",
   "execution_count": 3,
   "metadata": {},
   "outputs": [],
   "source": [
    "pos=open('positive.txt','r').read()\n",
    "neg=open('negative.txt','r').read()\n",
    "docs=[]\n",
    "for p in pos.split('\\n'):\n",
    "    docs.append((p,'pos'))\n",
    "for n in neg.split('\\n'):\n",
    "    docs.append((n,'neg'))"
   ]
  },
  {
   "cell_type": "code",
   "execution_count": 4,
   "metadata": {},
   "outputs": [],
   "source": [
    "words=word_tokenize(pos)\n",
    "allwords=[]\n",
    "for w in words:\n",
    "    allwords.append(w)\n",
    "k=nltk.FreqDist(allwords)\n",
    "l=k.most_common(5000)\n",
    "most5000=[a for a,b in l]"
   ]
  },
  {
   "cell_type": "code",
   "execution_count": 5,
   "metadata": {},
   "outputs": [],
   "source": [
    "#with the help of docs(which is a list of words with pos/neg at the end)\n",
    "#and most frequent 5000 we find feat sets which we use to train the clf"
   ]
  },
  {
   "cell_type": "code",
   "execution_count": 6,
   "metadata": {},
   "outputs": [],
   "source": [
    "def find_feat (doc):\n",
    "    words=set(doc)\n",
    "    feat={}\n",
    "    for w in most5000:\n",
    "        feat[w]=(w in words)\n",
    "    return feat\n",
    "featsets=[(find_feat(rev),category) for (rev,category) in docs]"
   ]
  },
  {
   "cell_type": "code",
   "execution_count": 7,
   "metadata": {},
   "outputs": [
    {
     "name": "stdout",
     "output_type": "stream",
     "text": [
      "0.5552\n"
     ]
    }
   ],
   "source": [
    "training_set=featsets[:10000]\n",
    "test_set=featsets[10000:]\n",
    "clf=nltk.NaiveBayesClassifier.train(training_set)\n",
    "print(nltk.classify.accuracy(clf,training_set))"
   ]
  },
  {
   "cell_type": "code",
   "execution_count": null,
   "metadata": {},
   "outputs": [],
   "source": [
    "#classification is quick ,training takes timee"
   ]
  }
 ],
 "metadata": {
  "kernelspec": {
   "display_name": "Python 3",
   "language": "python",
   "name": "python3"
  },
  "language_info": {
   "codemirror_mode": {
    "name": "ipython",
    "version": 3
   },
   "file_extension": ".py",
   "mimetype": "text/x-python",
   "name": "python",
   "nbconvert_exporter": "python",
   "pygments_lexer": "ipython3",
   "version": "3.6.5"
  }
 },
 "nbformat": 4,
 "nbformat_minor": 2
}
