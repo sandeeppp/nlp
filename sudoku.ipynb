{
 "cells": [
  {
   "cell_type": "code",
   "execution_count": 12,
   "metadata": {},
   "outputs": [],
   "source": [
    "q= [\n",
    "[0, 0, 4, 0, 8, 0, 3, 0, 0],\n",
    "[0, 0, 0, 0, 0, 3, 0, 4, 2],\n",
    "[8, 0, 0, 4, 0, 5, 9, 0, 7],\n",
    "[3, 0, 2, 0, 7, 0, 5, 0, 8],\n",
    "[0, 5, 0, 0, 0, 0, 0, 7, 0],\n",
    "[6, 0, 8, 0, 9, 0, 2, 0, 1],\n",
    "[4, 0, 6, 2, 0, 7, 0, 0, 9],\n",
    "[5, 2, 0, 9, 0, 0, 0, 0, 0],\n",
    "[0, 0, 7, 0, 1, 0, 4, 0, 0]\n",
    "]\n",
    "import numpy as np\n",
    "q=np.array(q)"
   ]
  },
  {
   "cell_type": "code",
   "execution_count": 8,
   "metadata": {},
   "outputs": [
    {
     "data": {
      "text/plain": [
       "array([0, 2, 3, 4, 5, 8])"
      ]
     },
     "execution_count": 8,
     "metadata": {},
     "output_type": "execute_result"
    }
   ],
   "source": [
    "import numpy as np\n",
    "q=np.array(q)\n",
    "q[2,:]#row\n",
    "q[:,2]#column\n",
    "np.unique(list(np.unique(q[0,:]))+list(np.unique(q[:,1])))"
   ]
  },
  {
   "cell_type": "code",
   "execution_count": 31,
   "metadata": {},
   "outputs": [
    {
     "name": "stdout",
     "output_type": "stream",
     "text": [
      "[[2 8 4 0 9 3 0 6 7]\n",
      " [3 6 9 4 7 1 0 2 5]\n",
      " [1 5 7 8 2 6 0 9 3]\n",
      " [0 0 6 0 0 0 0 3 1]\n",
      " [8 9 2 1 3 5 6 7 4]\n",
      " [4 1 3 0 6 7 9 5 8]\n",
      " [7 0 0 0 8 0 0 4 6]\n",
      " [6 4 5 0 1 2 0 8 9]\n",
      " [9 3 8 0 5 4 7 1 2]]\n"
     ]
    }
   ],
   "source": [
    "q1=q\n",
    "for k in range(10000):\n",
    "    for i in range(9):\n",
    "        for j in range(9):\n",
    "            if q[i][j]!=0:\n",
    "                continue\n",
    "            if i<3 and j<3:\n",
    "                l=list(set(range(1,10))-(set(np.unique(list(np.unique(q[0:3,0:3]))+list(np.unique(q[i,:]))+list(np.unique(q[:,j]))-set([0])))))\n",
    "                if len(l)==1:\n",
    "                    q[i][j]=l[0]\n",
    "                continue\n",
    "            if i<3 and j>3 and j<6:\n",
    "                l=list(set(range(1,10))-(set(np.unique(list(np.unique(q[0:3,3:6]))+list(np.unique(q[i,:]))+list(np.unique(q[:,j]))-set([0])))))\n",
    "                if len(l)==1:\n",
    "                    q[i][j]=l[0]\n",
    "                continue\n",
    "            if i<3 and j>6 and j<9:\n",
    "                l=list(set(range(1,10))-(set(np.unique(list(np.unique(q[0:3,6:9]))+list(np.unique(q[i,:]))+list(np.unique(q[:,j]))-set([0])))))\n",
    "                if len(l)==1:\n",
    "                    q[i][j]=l[0]\n",
    "                continue\n",
    "            if i<6 and i>3 and j<3:\n",
    "                l=list(set(range(1,10))-(set(np.unique(list(np.unique(q[3:6,0:3]))+list(np.unique(q[i,:]))+list(np.unique(q[:,j]))-set([0])))))\n",
    "                if len(l)==1:\n",
    "                    q[i][j]=l[0]\n",
    "                continue\n",
    "            if i<6 and i>3 and j<6 and j>3:\n",
    "                l=list(set(range(1,10))-(set(np.unique(list(np.unique(q[3:6,3:6]))+list(np.unique(q[i,:]))+list(np.unique(q[:,j]))-set([0])))))\n",
    "                if len(l)==1:\n",
    "                    q[i][j]=l[0]\n",
    "                continue\n",
    "            if i<6 and i>3 and j<9 and j>6:\n",
    "                l=list(set(range(1,10))-(set(np.unique(list(np.unique(q[3:6,6:9]))+list(np.unique(q[i,:]))+list(np.unique(q[:,j]))-set([0])))))\n",
    "                if len(l)==1:\n",
    "                    q[i][j]=l[0]\n",
    "                continue\n",
    "            if i<9 and i>6 and j<3:\n",
    "                l=list(set(range(1,10))-(set(np.unique(list(np.unique(q[6:9,0:3]))+list(np.unique(q[i,:]))+list(np.unique(q[:,j]))-set([0])))))\n",
    "                if len(l)==1:\n",
    "                    q[i][j]=l[0]\n",
    "                continue\n",
    "            if i<9 and i>6 and j<6 and j>3:\n",
    "                l=list(set(range(1,10))-(set(np.unique(list(np.unique(q[6:9,3:6]))+list(np.unique(q[i,:]))+list(np.unique(q[:,j]))-set([0])))))\n",
    "                if len(l)==1:\n",
    "                    q[i][j]=l[0]\n",
    "                continue\n",
    "            if i<9 and i>6 and j<9 and j>6:\n",
    "                l=list(set(range(1,10))-(set(np.unique(list(np.unique(q[6:9,6:9]))+list(np.unique(q[i,:]))+list(np.unique(q[:,j]))-set([0])))))\n",
    "                if len(l)==1:\n",
    "                    q[i][j]=l[0]\n",
    "                continue\n",
    "        \n",
    "print(q)\n",
    "        \n",
    "    \n",
    "    \n"
   ]
  },
  {
   "cell_type": "code",
   "execution_count": null,
   "metadata": {},
   "outputs": [],
   "source": [
    "[[2, 8, 4 ,0 ,9, 3, 0, 6, 7],\n",
    " [3, 6, 9, 4, 7, 1, 0, 2, 5],\n",
    " [1 ,5 ,7, 8 ,2 ,6, 0 ,9, 3],\n",
    " [0 ,0 ,6 ,0 ,0 ,0 ,0 ,3 ,1],\n",
    " [8 ,9 ,2 ,1 ,3 ,5 ,6 ,7 ,4],\n",
    " [4 ,1 ,3 ,0 ,6 ,7 ,9 ,5 ,8],\n",
    " [7 ,0 ,0 ,0 ,8 ,0 ,0 ,4 ,6],\n",
    " [6 ,4 ,5 ,0 ,1 ,2 ,0 ,8 ,9],\n",
    " [9 ,3, 8 ,0 ,5 ,4 ,7 ,1 ,2]]\n",
    "\n",
    "q"
   ]
  },
  {
   "cell_type": "code",
   "execution_count": 15,
   "metadata": {},
   "outputs": [
    {
     "data": {
      "text/plain": [
       "array([[2, 0, 4, 0, 8, 0, 3, 0, 0],\n",
       "       [7, 0, 0, 0, 6, 3, 0, 4, 2],\n",
       "       [8, 0, 0, 4, 2, 5, 9, 0, 7],\n",
       "       [3, 0, 2, 0, 7, 0, 5, 0, 8],\n",
       "       [1, 5, 9, 0, 3, 0, 0, 7, 0],\n",
       "       [6, 7, 8, 0, 9, 4, 2, 3, 1],\n",
       "       [4, 0, 6, 2, 0, 7, 0, 0, 9],\n",
       "       [5, 2, 0, 9, 4, 0, 0, 0, 0],\n",
       "       [9, 0, 7, 0, 1, 0, 4, 0, 0]])"
      ]
     },
     "execution_count": 15,
     "metadata": {},
     "output_type": "execute_result"
    }
   ],
   "source": [
    "q"
   ]
  },
  {
   "cell_type": "code",
   "execution_count": 20,
   "metadata": {},
   "outputs": [
    {
     "data": {
      "text/plain": [
       "array([[0, 0, 4, 0, 0, 0, 0, 6, 7],\n",
       "       [3, 0, 0, 4, 7, 0, 0, 0, 5],\n",
       "       [1, 5, 0, 8, 2, 0, 0, 0, 3],\n",
       "       [0, 0, 6, 0, 0, 0, 0, 3, 1],\n",
       "       [8, 0, 2, 1, 0, 5, 6, 0, 4],\n",
       "       [4, 1, 0, 0, 0, 0, 9, 0, 0],\n",
       "       [7, 0, 0, 0, 8, 0, 0, 4, 6],\n",
       "       [6, 0, 0, 0, 1, 2, 0, 0, 0],\n",
       "       [9, 3, 0, 0, 0, 0, 7, 1, 0]])"
      ]
     },
     "execution_count": 20,
     "metadata": {},
     "output_type": "execute_result"
    }
   ],
   "source": [
    "s=[[ 0, 0, 4,   0, 0, 0,   0, 6, 7 ],\n",
    "                        [ 3, 0, 0,   4, 7, 0,   0, 0, 5 ],\n",
    "                        [ 1, 5, 0,   8, 2, 0,   0, 0, 3 ],\n",
    "                            \n",
    "                        [ 0, 0, 6,   0, 0, 0,   0, 3, 1 ],\n",
    "                        [ 8, 0, 2,   1, 0, 5,   6, 0, 4 ],\n",
    "                        [ 4, 1, 0,   0, 0, 0,   9, 0, 0 ],\n",
    "                            \n",
    "                        [ 7, 0, 0,   0, 8, 0,   0, 4, 6 ],\n",
    "                        [ 6, 0, 0,   0, 1, 2,   0, 0, 0 ],[ 9, 3, 0,   0, 0, 0,   7, 1, 0 ]]\n",
    "np.array(s)"
   ]
  },
  {
   "cell_type": "code",
   "execution_count": null,
   "metadata": {},
   "outputs": [],
   "source": []
  }
 ],
 "metadata": {
  "kernelspec": {
   "display_name": "Python 3",
   "language": "python",
   "name": "python3"
  },
  "language_info": {
   "codemirror_mode": {
    "name": "ipython",
    "version": 3
   },
   "file_extension": ".py",
   "mimetype": "text/x-python",
   "name": "python",
   "nbconvert_exporter": "python",
   "pygments_lexer": "ipython3",
   "version": "3.6.7"
  }
 },
 "nbformat": 4,
 "nbformat_minor": 2
}
