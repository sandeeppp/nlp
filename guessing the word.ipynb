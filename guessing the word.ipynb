{
 "cells": [
  {
   "cell_type": "code",
   "execution_count": 3,
   "metadata": {},
   "outputs": [
    {
     "name": "stdout",
     "output_type": "stream",
     "text": [
      "the size is 4\n",
      "take a guess:babe\n",
      "that's correct\n"
     ]
    }
   ],
   "source": [
    "import numpy as np\n",
    "word='babe'\n",
    "l1=[]\n",
    "for i in range(len(word)):\n",
    "    l1.append('z')\n",
    "print('the size is',len(word))\n",
    "guess=input('take a guess:')\n",
    "while word!=guess:\n",
    "    for i in range(len(word)):\n",
    "        if word[i]==guess[i]:\n",
    "            l1.pop(i)\n",
    "            l1.insert(i,guess[i])\n",
    "        else:\n",
    "            continue\n",
    "    answer=''.join(l1)\n",
    "    print(answer)\n",
    "    if answer==word:\n",
    "        print('you got it',answer)\n",
    "        break\n",
    "    else:\n",
    "        guess=input('enter the new guess:')\n",
    "        continue\n",
    "print(\"that's correct\")"
   ]
  },
  {
   "cell_type": "code",
   "execution_count": null,
   "metadata": {},
   "outputs": [],
   "source": [
    "\n"
   ]
  },
  {
   "cell_type": "code",
   "execution_count": null,
   "metadata": {},
   "outputs": [],
   "source": []
  }
 ],
 "metadata": {
  "kernelspec": {
   "display_name": "Python 3",
   "language": "python",
   "name": "python3"
  },
  "language_info": {
   "codemirror_mode": {
    "name": "ipython",
    "version": 3
   },
   "file_extension": ".py",
   "mimetype": "text/x-python",
   "name": "python",
   "nbconvert_exporter": "python",
   "pygments_lexer": "ipython3",
   "version": "3.7.0"
  }
 },
 "nbformat": 4,
 "nbformat_minor": 2
}
